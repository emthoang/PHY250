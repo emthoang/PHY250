{
 "cells": [
  {
   "cell_type": "markdown",
   "id": "3d339f2e",
   "metadata": {},
   "source": [
    "## To Do Before"
   ]
  },
  {
   "cell_type": "code",
   "execution_count": 52,
   "id": "2cd97488",
   "metadata": {},
   "outputs": [],
   "source": [
    "from numpy import *"
   ]
  },
  {
   "cell_type": "code",
   "execution_count": 53,
   "id": "c111ca87",
   "metadata": {},
   "outputs": [],
   "source": [
    "def sagan():\n",
    "    quote = \"With insufficient data it is easy to go wrong.\""
   ]
  },
  {
   "cell_type": "code",
   "execution_count": 54,
   "id": "592174e9",
   "metadata": {},
   "outputs": [],
   "source": [
    "def forty_two():\n",
    "    return 42"
   ]
  },
  {
   "cell_type": "code",
   "execution_count": 55,
   "id": "29194e4b",
   "metadata": {},
   "outputs": [
    {
     "data": {
      "text/plain": [
       "42"
      ]
     },
     "execution_count": 55,
     "metadata": {},
     "output_type": "execute_result"
    }
   ],
   "source": [
    "forty_two()"
   ]
  },
  {
   "cell_type": "code",
   "execution_count": 56,
   "id": "cdf136e6",
   "metadata": {},
   "outputs": [
    {
     "name": "stdout",
     "output_type": "stream",
     "text": [
      "42\n"
     ]
    }
   ],
   "source": [
    "print(forty_two())"
   ]
  },
  {
   "cell_type": "code",
   "execution_count": 57,
   "id": "13e8e7e9",
   "metadata": {},
   "outputs": [
    {
     "name": "stdout",
     "output_type": "stream",
     "text": [
      "42\n"
     ]
    }
   ],
   "source": [
    "x = forty_two()\n",
    "print(x)"
   ]
  },
  {
   "cell_type": "code",
   "execution_count": 58,
   "id": "1aa6adb2",
   "metadata": {},
   "outputs": [],
   "source": [
    "def forty_two_or_bust(x):\n",
    "    if x:\n",
    "        print(42)\n",
    "    else:\n",
    "        print(0)"
   ]
  },
  {
   "cell_type": "code",
   "execution_count": 59,
   "id": "1d36eb0c",
   "metadata": {},
   "outputs": [
    {
     "name": "stdout",
     "output_type": "stream",
     "text": [
      "42\n"
     ]
    }
   ],
   "source": [
    "forty_two_or_bust(True)"
   ]
  },
  {
   "cell_type": "code",
   "execution_count": 62,
   "id": "dc2dd8f3",
   "metadata": {},
   "outputs": [
    {
     "name": "stdout",
     "output_type": "stream",
     "text": [
      "0\n"
     ]
    }
   ],
   "source": [
    "bust = False\n",
    "forty_two_or_bust(bust)"
   ]
  },
  {
   "cell_type": "code",
   "execution_count": 64,
   "id": "798c44e6",
   "metadata": {},
   "outputs": [],
   "source": [
    "def power(base, x):\n",
    "    \"\"\"Computes base^x. Both base and x should be integers,\n",
    "    floats, or another numeric type.\n",
    "    \"\"\"\n",
    "    return base**x"
   ]
  },
  {
   "cell_type": "code",
   "execution_count": 65,
   "id": "8781b61a",
   "metadata": {},
   "outputs": [],
   "source": [
    "from math import sin"
   ]
  },
  {
   "cell_type": "code",
   "execution_count": 66,
   "id": "1ca2fa98",
   "metadata": {},
   "outputs": [],
   "source": [
    "def sin_inv_x(x):\n",
    "    if x == 0.0:\n",
    "        result = 0.0\n",
    "    else:\n",
    "        result = sin(1.0/x)\n",
    "    return result"
   ]
  },
  {
   "cell_type": "code",
   "execution_count": 67,
   "id": "0abe15a3",
   "metadata": {},
   "outputs": [
    {
     "data": {
      "text/plain": [
       "0.0"
      ]
     },
     "execution_count": 67,
     "metadata": {},
     "output_type": "execute_result"
    }
   ],
   "source": [
    "sin_inv_x(0)"
   ]
  },
  {
   "cell_type": "code",
   "execution_count": 73,
   "id": "1ad0cb18",
   "metadata": {},
   "outputs": [
    {
     "data": {
      "text/plain": [
       "0.8414709848078965"
      ]
     },
     "execution_count": 73,
     "metadata": {},
     "output_type": "execute_result"
    }
   ],
   "source": [
    "sin_inv_x(1)"
   ]
  },
  {
   "cell_type": "code",
   "execution_count": 74,
   "id": "083c6650",
   "metadata": {},
   "outputs": [],
   "source": [
    "def line(x, a=1.0, b=0.0):\n",
    "    return a*x + b"
   ]
  },
  {
   "cell_type": "code",
   "execution_count": 76,
   "id": "e0f504be",
   "metadata": {},
   "outputs": [
    {
     "data": {
      "text/plain": [
       "42.0"
      ]
     },
     "execution_count": 76,
     "metadata": {},
     "output_type": "execute_result"
    }
   ],
   "source": [
    "line(42)"
   ]
  },
  {
   "cell_type": "code",
   "execution_count": 77,
   "id": "6ae7fb23",
   "metadata": {},
   "outputs": [
    {
     "data": {
      "text/plain": [
       "84.0"
      ]
     },
     "execution_count": 77,
     "metadata": {},
     "output_type": "execute_result"
    }
   ],
   "source": [
    "line(42,2)"
   ]
  },
  {
   "cell_type": "code",
   "execution_count": 78,
   "id": "545f9ca2",
   "metadata": {},
   "outputs": [
    {
     "data": {
      "text/plain": [
       "52.0"
      ]
     },
     "execution_count": 78,
     "metadata": {},
     "output_type": "execute_result"
    }
   ],
   "source": [
    "line(42, b=10)"
   ]
  },
  {
   "cell_type": "code",
   "execution_count": 79,
   "id": "2ced3173",
   "metadata": {},
   "outputs": [
    {
     "data": {
      "text/plain": [
       "94"
      ]
     },
     "execution_count": 79,
     "metadata": {},
     "output_type": "execute_result"
    }
   ],
   "source": [
    "line(42, b=10, a=2)"
   ]
  },
  {
   "cell_type": "code",
   "execution_count": 80,
   "id": "80609ff1",
   "metadata": {},
   "outputs": [
    {
     "data": {
      "text/plain": [
       "94"
      ]
     },
     "execution_count": 80,
     "metadata": {},
     "output_type": "execute_result"
    }
   ],
   "source": [
    "line(42, a=2, b=10)"
   ]
  },
  {
   "cell_type": "code",
   "execution_count": 81,
   "id": "7354f44b",
   "metadata": {},
   "outputs": [],
   "source": [
    "def myappend(x, lyst=None):\n",
    "    if lyst is None:\n",
    "        lyst = []\n",
    "    lyst.append(x)\n",
    "    print(lyst)\n",
    "    return lyst"
   ]
  },
  {
   "cell_type": "code",
   "execution_count": 82,
   "id": "cb4dc9c2",
   "metadata": {},
   "outputs": [
    {
     "name": "stdout",
     "output_type": "stream",
     "text": [
      "[6]\n"
     ]
    },
    {
     "data": {
      "text/plain": [
       "[6]"
      ]
     },
     "execution_count": 82,
     "metadata": {},
     "output_type": "execute_result"
    }
   ],
   "source": [
    "myappend(6)"
   ]
  },
  {
   "cell_type": "code",
   "execution_count": 83,
   "id": "b98f1ce3",
   "metadata": {},
   "outputs": [
    {
     "name": "stdout",
     "output_type": "stream",
     "text": [
      "[42]\n"
     ]
    },
    {
     "data": {
      "text/plain": [
       "[42]"
      ]
     },
     "execution_count": 83,
     "metadata": {},
     "output_type": "execute_result"
    }
   ],
   "source": [
    "myappend(42)"
   ]
  },
  {
   "cell_type": "code",
   "execution_count": 84,
   "id": "7f26b39d",
   "metadata": {},
   "outputs": [
    {
     "name": "stdout",
     "output_type": "stream",
     "text": [
      "[1, 16, 12]\n"
     ]
    },
    {
     "data": {
      "text/plain": [
       "[1, 16, 12]"
      ]
     },
     "execution_count": 84,
     "metadata": {},
     "output_type": "execute_result"
    }
   ],
   "source": [
    "myappend(12,[1,16])"
   ]
  },
  {
   "cell_type": "code",
   "execution_count": 85,
   "id": "fae6aab9",
   "metadata": {},
   "outputs": [
    {
     "name": "stdout",
     "output_type": "stream",
     "text": [
      "[65]\n"
     ]
    },
    {
     "data": {
      "text/plain": [
       "[65]"
      ]
     },
     "execution_count": 85,
     "metadata": {},
     "output_type": "execute_result"
    }
   ],
   "source": [
    "myappend(65)"
   ]
  },
  {
   "cell_type": "code",
   "execution_count": 86,
   "id": "b4c1dc4c",
   "metadata": {},
   "outputs": [],
   "source": [
    "def minimum(*args):\n",
    "    \"\"\"Takes any number of arguments\"\"\"\n",
    "    m = args[0]\n",
    "    for x in args[1:]:\n",
    "        if x < m:\n",
    "            m = x\n",
    "    return m"
   ]
  },
  {
   "cell_type": "code",
   "execution_count": 87,
   "id": "25b4a094",
   "metadata": {},
   "outputs": [
    {
     "data": {
      "text/plain": [
       "6"
      ]
     },
     "execution_count": 87,
     "metadata": {},
     "output_type": "execute_result"
    }
   ],
   "source": [
    "minimum(6,42)"
   ]
  },
  {
   "cell_type": "code",
   "execution_count": 90,
   "id": "0f08b1ac",
   "metadata": {},
   "outputs": [
    {
     "data": {
      "text/plain": [
       "2"
      ]
     },
     "execution_count": 90,
     "metadata": {},
     "output_type": "execute_result"
    }
   ],
   "source": [
    "data = [65,42,2,8]\n",
    "minimum(*data)"
   ]
  },
  {
   "cell_type": "code",
   "execution_count": 91,
   "id": "9b765c5b",
   "metadata": {},
   "outputs": [],
   "source": [
    "def blender(*args, **kwargs):\n",
    "    \"\"\"Will it?\"\"\"\n",
    "    print(args,kwargs)"
   ]
  },
  {
   "cell_type": "code",
   "execution_count": 94,
   "id": "35af451a",
   "metadata": {},
   "outputs": [
    {
     "name": "stdout",
     "output_type": "stream",
     "text": [
      "('yes', 42) {}\n"
     ]
    }
   ],
   "source": [
    "blender(\"yes\",42)"
   ]
  },
  {
   "cell_type": "code",
   "execution_count": 95,
   "id": "c8d40bfe",
   "metadata": {},
   "outputs": [
    {
     "name": "stdout",
     "output_type": "stream",
     "text": [
      "() {'z': 6, 'x': 42}\n"
     ]
    }
   ],
   "source": [
    "blender(z=6, x=42)"
   ]
  },
  {
   "cell_type": "code",
   "execution_count": 96,
   "id": "2daf355d",
   "metadata": {},
   "outputs": [
    {
     "name": "stdout",
     "output_type": "stream",
     "text": [
      "('no', [1], 'yes') {'z': 6, 'x': 42}\n"
     ]
    }
   ],
   "source": [
    "blender(\"no\",[1],\"yes\", z=6,x=42)"
   ]
  },
  {
   "cell_type": "code",
   "execution_count": 97,
   "id": "3a848926",
   "metadata": {},
   "outputs": [
    {
     "name": "stdout",
     "output_type": "stream",
     "text": [
      "('yes', 'no') {'kid': 'covalent', 'mom': 'ionic'}\n"
     ]
    }
   ],
   "source": [
    "t = (\"no\",)\n",
    "d = {\"mom\": \"ionic\"}\n",
    "blender(\"yes\", kid=\"covalent\", *t, **d)"
   ]
  },
  {
   "cell_type": "code",
   "execution_count": 98,
   "id": "31573ad3",
   "metadata": {},
   "outputs": [],
   "source": [
    "def momentum_energy(m,v):\n",
    "    p = m*v\n",
    "    e = 0.5*m*v**2\n",
    "    return p, e"
   ]
  },
  {
   "cell_type": "code",
   "execution_count": 99,
   "id": "f4f319db",
   "metadata": {},
   "outputs": [
    {
     "name": "stdout",
     "output_type": "stream",
     "text": [
      "(2730.0, 88725.0)\n"
     ]
    }
   ],
   "source": [
    "p_e = momentum_energy(42.0,65.0)\n",
    "print(p_e)"
   ]
  },
  {
   "cell_type": "code",
   "execution_count": 100,
   "id": "c370a5b2",
   "metadata": {},
   "outputs": [
    {
     "name": "stdout",
     "output_type": "stream",
     "text": [
      "2730.0\n"
     ]
    }
   ],
   "source": [
    "mom, eng = momentum_energy(42.0,65.0)\n",
    "print(mom)"
   ]
  },
  {
   "cell_type": "code",
   "execution_count": 101,
   "id": "7cc61f3e",
   "metadata": {},
   "outputs": [],
   "source": [
    "# global scope\n",
    "a = 6\n",
    "b = 42\n",
    "\n",
    "def func(x, y):\n",
    "    # local scope\n",
    "    z = 16\n",
    "    return a*x + b*y + z\n",
    "\n",
    "# global scope\n",
    "c = func(1, 5)"
   ]
  },
  {
   "cell_type": "markdown",
   "id": "366fdf44",
   "metadata": {},
   "source": [
    "## Class time"
   ]
  },
  {
   "cell_type": "code",
   "execution_count": 117,
   "id": "d8e54586",
   "metadata": {},
   "outputs": [
    {
     "name": "stdout",
     "output_type": "stream",
     "text": [
      "[1, 2, 3, 4, 5]\n"
     ]
    }
   ],
   "source": [
    "print(list(range(1,6)))"
   ]
  },
  {
   "cell_type": "code",
   "execution_count": 135,
   "id": "eb717eb5",
   "metadata": {},
   "outputs": [],
   "source": [
    "def test_fizz_buzz_return_list():\n",
    "    assert isinstance(fizz_buzz(1), list)\n",
    "    \n",
    "def test_fizz_buzz_output_length():\n",
    "    assert len(fizz_buzz(3))==3\n",
    "    \n",
    "def test_fizz_buzz_n_is_1():\n",
    "    assert fizz_buzz(1)==[1]\n",
    "    \n",
    "def test_fizz_buzz_n_is_3():\n",
    "    assert fizz_buzz(3)==[1,2,\"fizz\"]\n",
    "    \n",
    "def test_fizz_buzz_n_is_5():\n",
    "    expected_return = list(range(1,6))\n",
    "    expected_return[2] = \"fizz\"\n",
    "    expected_return[4] = \"buzz\"\n",
    "    assert fizz_buzz(5)==expected_return\n",
    "\n",
    "def test_fizz_buzz_n_is_15():\n",
    "    expected_return = list(range(1,16))\n",
    "    for idx in [3,6,9,12]:\n",
    "        expected_return[idx-1] = 'fizz'\n",
    "    for idx in [5,10]:\n",
    "        expected_return[idx-1] = 'buzz'\n",
    "    expected_return[14] = 'fizzbuzz'\n",
    "    assert fizz_buzz(15)==expected_return"
   ]
  },
  {
   "cell_type": "code",
   "execution_count": 136,
   "id": "023467a8",
   "metadata": {},
   "outputs": [],
   "source": [
    "def fizz_buzz(n):\n",
    "    game_phrases = [0]*n\n",
    "    for idx in range(n):\n",
    "        entry = idx+1\n",
    "        phrase = \"\"\n",
    "        if entry % 3 == 0:\n",
    "            phrase += \"fizz\"\n",
    "        if entry % 5 == 0:\n",
    "            phrase += \"buzz\"\n",
    "        game_phrases[idx] = phrase or entry\n",
    "        \n",
    "    return game_phrases"
   ]
  },
  {
   "cell_type": "code",
   "execution_count": 137,
   "id": "3f2d7e34",
   "metadata": {},
   "outputs": [
    {
     "name": "stdout",
     "output_type": "stream",
     "text": [
      "[1, 2, 'fizz', 4, 'buzz', 'fizz', 7, 8, 'fizz', 'buzz', 11, 'fizz', 13, 14, 'fizzbuzz']\n"
     ]
    }
   ],
   "source": [
    "print(fizz_buzz(15))"
   ]
  },
  {
   "cell_type": "code",
   "execution_count": 138,
   "id": "28061ded",
   "metadata": {},
   "outputs": [],
   "source": [
    "test_fizz_buzz_return_list()\n",
    "test_fizz_buzz_output_length()\n",
    "test_fizz_buzz_n_is_1()\n",
    "test_fizz_buzz_n_is_3()\n",
    "test_fizz_buzz_n_is_5()\n",
    "test_fizz_buzz_n_is_15()"
   ]
  },
  {
   "cell_type": "code",
   "execution_count": null,
   "id": "e285b494",
   "metadata": {},
   "outputs": [],
   "source": []
  }
 ],
 "metadata": {
  "kernelspec": {
   "display_name": "Python 3 (ipykernel)",
   "language": "python",
   "name": "python3"
  },
  "language_info": {
   "codemirror_mode": {
    "name": "ipython",
    "version": 3
   },
   "file_extension": ".py",
   "mimetype": "text/x-python",
   "name": "python",
   "nbconvert_exporter": "python",
   "pygments_lexer": "ipython3",
   "version": "3.9.7"
  }
 },
 "nbformat": 4,
 "nbformat_minor": 5
}
