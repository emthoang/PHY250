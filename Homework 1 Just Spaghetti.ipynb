{
 "cells": [
  {
   "cell_type": "code",
   "execution_count": 1,
   "id": "f63a515c",
   "metadata": {},
   "outputs": [],
   "source": [
    "from numpy import *\n",
    "from matplotlib import pyplot as plt\n",
    "%matplotlib inline"
   ]
  },
  {
   "cell_type": "code",
   "execution_count": 2,
   "id": "e5af34aa",
   "metadata": {},
   "outputs": [],
   "source": [
    "def page_printer(data, start=0, screen_lines=0, pager_cmd=None):\n",
    "    if isinstance(data, dict):\n",
    "        data = data['text/plain']\n",
    "    print(data)\n",
    "\n",
    "import IPython.core.page\n",
    "IPython.core.page.page = page_printer"
   ]
  },
  {
   "cell_type": "code",
   "execution_count": 22,
   "id": "4cd038cb",
   "metadata": {},
   "outputs": [],
   "source": [
    "num = 16\n",
    "rule = []\n",
    "while num > 0:\n",
    "    rule.append(int(num%3))\n",
    "    num = floor(num/3)\n",
    "while len(rule) < 9:\n",
    "    rule.append(0)\n",
    "rule = rule[::-1]"
   ]
  },
  {
   "cell_type": "code",
   "execution_count": 4,
   "id": "de0d6667",
   "metadata": {},
   "outputs": [],
   "source": [
    "neighborhoods = [[2,2],[2,1],[2,0],[1,2],[1,1],[1,0],[0,2],[0,1],[0,0]]\n",
    "table = []\n",
    "\n",
    "for i in range(len(rule)):\n",
    "    key = neighborhoods[i]\n",
    "    val = rule[i]\n",
    "    table.append([key,val])"
   ]
  },
  {
   "cell_type": "code",
   "execution_count": 23,
   "id": "eaec0f0e",
   "metadata": {},
   "outputs": [
    {
     "name": "stdout",
     "output_type": "stream",
     "text": [
      "[[0, 2], [2, 2], [2, 1], [1, 2], [2, 0], [0, 0], [0, 1], [1, 1], [1, 0]]\n"
     ]
    }
   ],
   "source": [
    "init = 221200110\n",
    "init_row = list(map(int, str(init)))\n",
    "spacetime_field = [init_row]\n",
    "\n",
    "count = 1\n",
    "num_rows = 10\n",
    "\n",
    "init_neighborhood = []\n",
    "for i in range(len(init_row)):\n",
    "    init_neighborhood.append([init_row[i-1],init_row[i]])\n",
    "\n",
    "print(init_neighborhood)\n",
    "\n",
    "\n",
    "while count < num_rows:\n",
    "    \n",
    "    new_row = []\n",
    "    \n",
    "    for i in init_neighborhood:\n",
    "        for j in table:\n",
    "            if i == j[0]:\n",
    "                new_row.append(j[1])\n",
    "    \n",
    "    spacetime_field.append(new_row)\n",
    "    \n",
    "    init_neighborhood = []\n",
    "    for i in range(len(init_row)):\n",
    "        init_neighborhood.append([new_row[i-1],new_row[i]])\n",
    "    \n",
    "    count += 1"
   ]
  },
  {
   "cell_type": "code",
   "execution_count": 21,
   "id": "e4bab3ef",
   "metadata": {},
   "outputs": [
    {
     "data": {
      "image/png": "[encoded data removed]",
      "text/plain": [
       "<Figure size 864x864 with 1 Axes>"
      ]
     },
     "metadata": {
      "needs_background": "light"
     },
     "output_type": "display_data"
    }
   ],
   "source": [
    "plt.figure(figsize=(12,12))\n",
    "plt.imshow(spacetime_field, cmap=plt.cm.coolwarm, interpolation='nearest')\n",
    "plt.show()"
   ]
  },
  {
   "cell_type": "code",
   "execution_count": null,
   "id": "0a93b868",
   "metadata": {},
   "outputs": [],
   "source": []
  }
 ],
 "metadata": {
  "kernelspec": {
   "display_name": "Python 3 (ipykernel)",
   "language": "python",
   "name": "python3"
  },
  "language_info": {
   "codemirror_mode": {
    "name": "ipython",
    "version": 3
   },
   "file_extension": ".py",
   "mimetype": "text/x-python",
   "name": "python",
   "nbconvert_exporter": "python",
   "pygments_lexer": "ipython3",
   "version": "3.9.7"
  }
 },
 "nbformat": 4,
 "nbformat_minor": 5
}
