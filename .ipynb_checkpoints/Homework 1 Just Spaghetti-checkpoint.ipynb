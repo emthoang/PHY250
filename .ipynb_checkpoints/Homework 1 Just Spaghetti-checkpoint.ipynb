{
 "cells": [
  {
   "cell_type": "code",
   "execution_count": 1,
   "id": "f63a515c",
   "metadata": {},
   "outputs": [],
   "source": [
    "from numpy import *\n",
    "from matplotlib import pyplot as plt\n",
    "%matplotlib inline"
   ]
  },
  {
   "cell_type": "code",
   "execution_count": 2,
   "id": "e5af34aa",
   "metadata": {},
   "outputs": [],
   "source": [
    "def page_printer(data, start=0, screen_lines=0, pager_cmd=None):\n",
    "    if isinstance(data, dict):\n",
    "        data = data['text/plain']\n",
    "    print(data)\n",
    "\n",
    "import IPython.core.page\n",
    "IPython.core.page.page = page_printer"
   ]
  },
  {
   "cell_type": "code",
   "execution_count": 11,
   "id": "4cd038cb",
   "metadata": {},
   "outputs": [],
   "source": [
    "\n",
    "\n",
    "def num_to_rule(num):\n",
    "    rule = []\n",
    "    if num > 19682 or num < 0:\n",
    "        raise ValueError(\"Error, number too large (greater than 19682) or negative\")\n",
    "    else:\n",
    "        while num > 0:\n",
    "            rule.append(int(num%3))\n",
    "            num = floor(num/3)\n",
    "        while len(rule) < 9:\n",
    "            rule.append(0)\n",
    "    return rule[::-1]"
   ]
  },
  {
   "cell_type": "code",
   "execution_count": 12,
   "id": "de0d6667",
   "metadata": {},
   "outputs": [],
   "source": [
    "def lookup_table(rule_num):\n",
    "    rule = num_to_rule(rule_num)\n",
    "    neighborhoods = [[2,2],[2,1],[2,0],[1,2],[1,1],[1,0],[0,2],[0,1],[0,0]]\n",
    "    table = []\n",
    "    \n",
    "    for i in range(len(rule)):\n",
    "        key = neighborhoods[i]\n",
    "        val = rule[i]\n",
    "        table.append([key,val])\n",
    "    return table"
   ]
  },
  {
   "cell_type": "code",
   "execution_count": 13,
   "id": "cde40701",
   "metadata": {},
   "outputs": [],
   "source": [
    "def next_row(init,rule_num):\n",
    "    init_list = list(map(int, str(init)))\n",
    "    table = lookup_table(rule_num)\n",
    "    init_neighborhood = []\n",
    "    for i in range(len(init_list)):\n",
    "        init_neighborhood.append([init_list[i-1],init_list[i]])\n",
    "\n",
    "    new_row = []\n",
    "    for i in init_neighborhood:\n",
    "        for j in table:\n",
    "            if i == j[0]:\n",
    "                new_row.append(j[1])\n",
    "    return new_row"
   ]
  },
  {
   "cell_type": "code",
   "execution_count": 14,
   "id": "eaec0f0e",
   "metadata": {},
   "outputs": [],
   "source": [
    "def cell_auto_creator(init,rule_num,num_rows):\n",
    "    init_row = list(map(int, str(init)))\n",
    "    cell = [init_row]\n",
    "    count = 1\n",
    "    while count < num_rows:\n",
    "        cell.append(next_row(init,rule_num))\n",
    "        \n",
    "        strings = [str(i) for i in next_row(init,rule_num)]\n",
    "        init = \"\".join(strings)\n",
    "\n",
    "        init_row = next_row(init,rule_num)\n",
    "        count += 1\n",
    "    return cell"
   ]
  },
  {
   "cell_type": "code",
   "execution_count": 17,
   "id": "11d6896b",
   "metadata": {},
   "outputs": [],
   "source": [
    "# init = \"00220111012\"\n",
    "init = 1200120102010211002112210121120010201101022022211121020100210011220012010220120021102221101012010122\n",
    "# print(len(str(init)))\n",
    "\n",
    "rule = 1904\n",
    "\n",
    "spacetime_field = cell_auto_creator(init,rule,100)"
   ]
  },
  {
   "cell_type": "code",
   "execution_count": 18,
   "id": "e4bab3ef",
   "metadata": {},
   "outputs": [
    {
     "data": {
      "image/png": "[encoded data removed]",
      "text/plain": [
       "<Figure size 864x864 with 1 Axes>"
      ]
     },
     "metadata": {
      "needs_background": "light"
     },
     "output_type": "display_data"
    }
   ],
   "source": [
    "plt.figure(figsize=(12,12))\n",
    "plt.imshow(spacetime_field, cmap=plt.cm.coolwarm, interpolation='nearest')\n",
    "plt.show()"
   ]
  },
  {
   "cell_type": "code",
   "execution_count": null,
   "id": "0a93b868",
   "metadata": {},
   "outputs": [],
   "source": []
  }
 ],
 "metadata": {
  "kernelspec": {
   "display_name": "Python 3 (ipykernel)",
   "language": "python",
   "name": "python3"
  },
  "language_info": {
   "codemirror_mode": {
    "name": "ipython",
    "version": 3
   },
   "file_extension": ".py",
   "mimetype": "text/x-python",
   "name": "python",
   "nbconvert_exporter": "python",
   "pygments_lexer": "ipython3",
   "version": "3.9.7"
  }
 },
 "nbformat": 4,
 "nbformat_minor": 5
}
