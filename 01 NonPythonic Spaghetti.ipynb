{
 "cells": [
  {
   "cell_type": "markdown",
   "metadata": {},
   "source": [
    "In this notebook we will be writing a simple cellular automata (CA) simulator code, which we will subsequently build off of to demonstrate various aspects of scientific programming in Python. The code here will use no abstraction through functions or classes, and will not use any numpy. We will try our best though to follow the PEP8 style guide and make this code as readable as we can. \n",
    "\n",
    "If you are unfamiliar with CA, this web page will quickly bring you up to speed: https://mathworld.wolfram.com/ElementaryCellularAutomaton.html.\n",
    "\n",
    "Below we use the jupyter notebook as a development workspace, where we can try various approaches and run small tests to make sure code we write is doing what we want it to do. At the end we will collect all the pieces and put them in a single cell which will act as our code base script. Executing that cell will produce and plot a spacetime field of a given shape using the given Elementary CA (ECA) rule number."
   ]
  },
  {
   "cell_type": "markdown",
   "metadata": {},
   "source": [
    "First thing is to import all packages we will be using, which here is just the random package for random initial conditions and matplotlib to plot spacetime fields.\n",
    "The last line is a [\"magic\"](https://ipython.readthedocs.io/en/stable/interactive/magics.html) command that renders plots in the output cell."
   ]
  },
  {
   "cell_type": "code",
   "execution_count": 1,
   "metadata": {
    "ExecuteTime": {
     "end_time": "2017-08-01T17:13:05.990435",
     "start_time": "2017-08-01T17:13:05.430320"
    }
   },
   "outputs": [],
   "source": [
    "import random\n",
    "from matplotlib import pyplot as plt\n",
    "%matplotlib inline"
   ]
  },
  {
   "cell_type": "markdown",
   "metadata": {},
   "source": [
    "A CA spacetime field is uniquely determined by the initial condition, the update rule (known as the \"lookup table\"), the number of time steps the update rule is applied, and the boundary conditions. \n",
    "\n",
    "We will only use periodic boundary conditions so the three pieces we need for the simulator are an initial condition, the number of time steps, and the lookup table. "
   ]
  },
  {
   "cell_type": "markdown",
   "metadata": {},
   "source": [
    "Let's start by producing a random binary string of a given length for our initial condition."
   ]
  },
  {
   "cell_type": "code",
   "execution_count": 2,
   "metadata": {
    "ExecuteTime": {
     "end_time": "2017-08-01T15:39:36.982386",
     "start_time": "2017-08-01T15:39:36.979648"
    }
   },
   "outputs": [],
   "source": [
    "length = 20"
   ]
  },
  {
   "cell_type": "markdown",
   "metadata": {},
   "source": [
    "There are several ways to create our initial condition without using numpy."
   ]
  },
  {
   "cell_type": "code",
   "execution_count": 3,
   "metadata": {
    "ExecuteTime": {
     "end_time": "2017-08-01T15:39:37.903647",
     "start_time": "2017-08-01T15:39:37.897682"
    }
   },
   "outputs": [
    {
     "name": "stdout",
     "output_type": "stream",
     "text": [
      "[1, 0, 0, 0, 1, 0, 0, 0, 0, 1, 0, 1, 0, 0, 0, 1, 0, 0, 0, 1]\n"
     ]
    }
   ],
   "source": [
    "# first, let's create an empty list and then build it up with random samples of (0,1)\n",
    "initial_condition_1 = []\n",
    "for i in range(length):\n",
    "    initial_condition_1.append(random.randint(0,1))\n",
    "print(initial_condition_1)"
   ]
  },
  {
   "cell_type": "markdown",
   "metadata": {},
   "source": [
    "The above is intuitive, but since it has to dynamically allocate memory space to the initial condition list as it grows it is not as efficient as it could be (it doesn't really make much of a difference for such a small array, but it is good to start thinking about what is going on under-the-hood in this way). "
   ]
  },
  {
   "cell_type": "code",
   "execution_count": 4,
   "metadata": {
    "ExecuteTime": {
     "end_time": "2017-08-01T15:39:38.813525",
     "start_time": "2017-08-01T15:39:38.808292"
    }
   },
   "outputs": [
    {
     "name": "stdout",
     "output_type": "stream",
     "text": [
      "[1, 0, 1, 1, 0, 1, 0, 1, 0, 1, 1, 0, 1, 1, 1, 1, 1, 1, 0, 1]\n"
     ]
    }
   ],
   "source": [
    "# next then, we can create a list of the given length, then populate it with random samples as so. \n",
    "initial_condition_2 = [0] * length \n",
    "for i in range(length):\n",
    "    initial_condition_2[i] = random.randint(0,1)\n",
    "print(initial_condition_2)"
   ]
  },
  {
   "cell_type": "markdown",
   "metadata": {},
   "source": [
    "The more Pythonic way to do this is by using what is called a list comprehension"
   ]
  },
  {
   "cell_type": "code",
   "execution_count": 5,
   "metadata": {
    "ExecuteTime": {
     "end_time": "2017-08-01T15:39:39.278343",
     "start_time": "2017-08-01T15:39:39.273338"
    }
   },
   "outputs": [
    {
     "name": "stdout",
     "output_type": "stream",
     "text": [
      "[0, 1, 0, 1, 0, 1, 0, 0, 1, 0, 1, 0, 1, 0, 1, 1, 1, 1, 1, 0]\n"
     ]
    }
   ],
   "source": [
    "initial_condition_3 = [random.randint(0,1) for _ in range(length)]\n",
    "print(initial_condition_3)"
   ]
  },
  {
   "cell_type": "markdown",
   "metadata": {},
   "source": [
    "Create a variable for how many time steps to evolve our CA. "
   ]
  },
  {
   "cell_type": "code",
   "execution_count": 6,
   "metadata": {
    "ExecuteTime": {
     "end_time": "2017-08-01T15:39:40.084181",
     "start_time": "2017-08-01T15:39:40.081331"
    }
   },
   "outputs": [],
   "source": [
    "time = 20"
   ]
  },
  {
   "cell_type": "markdown",
   "metadata": {},
   "source": [
    "Those were easy. Now we have to make the lookup table, which is less trivial. It may not be immediately obvious what data structure we should use for this. The lookup table maps neighborhoods to updated site values, so we will use a dictionary which maps keys to values. \n",
    "\n",
    "Dictionaries are the built-in implementation of [hash tables](https://en.wikipedia.org/wiki/Hash_table#In_programming_languages) in Python."
   ]
  },
  {
   "cell_type": "markdown",
   "metadata": {},
   "source": [
    "The lookup table is defined by the CA rule number, following the Wolfram numbering convention: the eight possible neighborhood values are given in lexicographical order and the corresponding lookup table outputs for the neighborhoods (in order) are treated as the binary representation of an integer, which is the CA rule number. \n",
    "\n",
    "So first we need to convert our integer rule number to binary. We also need a list of the 8 possible neighborhoods given in lexicographical order. Since these will be the keys for our lookup table dictionary, they need to be tuples"
   ]
  },
  {
   "cell_type": "code",
   "execution_count": 7,
   "metadata": {
    "ExecuteTime": {
     "end_time": "2017-08-01T15:39:41.221311",
     "start_time": "2017-08-01T15:39:41.218623"
    }
   },
   "outputs": [],
   "source": [
    "rule_number = 18"
   ]
  },
  {
   "cell_type": "code",
   "execution_count": 8,
   "metadata": {
    "ExecuteTime": {
     "end_time": "2017-08-01T15:39:41.650383",
     "start_time": "2017-08-01T15:39:41.645064"
    }
   },
   "outputs": [],
   "source": [
    "# list of neighborhood values, given as tuples, in lexicographical order\n",
    "neighborhoods = [(0,0,0), (0,0,1), (0,1,0), (0,1,1), (1,0,0), (1,0,1), (1,1,0), (1,1,1)]"
   ]
  },
  {
   "cell_type": "code",
   "execution_count": 9,
   "metadata": {
    "ExecuteTime": {
     "end_time": "2017-08-01T15:39:42.030338",
     "start_time": "2017-08-01T15:39:42.025177"
    }
   },
   "outputs": [
    {
     "name": "stdout",
     "output_type": "stream",
     "text": [
      "0b10010\n",
      "01001\n"
     ]
    }
   ],
   "source": [
    "# first we will try bin() to convert the rule number to binary\n",
    "print(bin(rule_number))\n",
    "# cut off the fisrt two characters (0b), and flip the remaining string around so it is the proper order\n",
    "print(bin(rule_number)[2:][::-1]) "
   ]
  },
  {
   "cell_type": "markdown",
   "metadata": {},
   "source": [
    "Notice that the result is not 8 characters long. We need to pad it with zeros on the right so that all the neighborhoods have an output they map to. "
   ]
  },
  {
   "cell_type": "code",
   "execution_count": 10,
   "metadata": {
    "ExecuteTime": {
     "end_time": "2017-08-01T15:39:42.921260",
     "start_time": "2017-08-01T15:39:42.915288"
    }
   },
   "outputs": [
    {
     "name": "stdout",
     "output_type": "stream",
     "text": [
      "01001000\n"
     ]
    }
   ],
   "source": [
    "# A simple, but not Pythonic, first thing we could do is this\n",
    "in_binary_1 = bin(rule_number)[2:][::-1]\n",
    "binary_length = len(in_binary_1)\n",
    "if binary_length != 8:\n",
    "    padding = 8 - binary_length\n",
    "    in_binary_1 = in_binary_1 + '0'*padding\n",
    "print(in_binary_1)"
   ]
  },
  {
   "cell_type": "markdown",
   "metadata": {},
   "source": [
    "We can now build the lookup table dictionary"
   ]
  },
  {
   "cell_type": "code",
   "execution_count": 11,
   "metadata": {
    "ExecuteTime": {
     "end_time": "2017-08-01T15:39:43.732295",
     "start_time": "2017-08-01T15:39:43.725430"
    }
   },
   "outputs": [
    {
     "name": "stdout",
     "output_type": "stream",
     "text": [
      "(0, 0, 0) --> 0\n",
      "(0, 0, 1) --> 1\n",
      "(0, 1, 0) --> 0\n",
      "(0, 1, 1) --> 0\n",
      "(1, 0, 0) --> 1\n",
      "(1, 0, 1) --> 0\n",
      "(1, 1, 0) --> 0\n",
      "(1, 1, 1) --> 0\n"
     ]
    }
   ],
   "source": [
    "lookup_table_1 = {}\n",
    "for i in range(8):\n",
    "    key = neighborhoods[i]\n",
    "    val = in_binary_1[i]\n",
    "    lookup_table_1.update({key:val})\n",
    "for key, val in lookup_table_1.items():\n",
    "    print(key, '-->', val)"
   ]
  },
  {
   "cell_type": "markdown",
   "metadata": {},
   "source": [
    "We can do both of the above steps in a more Pythonic way using a try, except statement. This way we don't need to pad the binary conversion, since we know if there is an index error it would needed to be padded with 0. "
   ]
  },
  {
   "cell_type": "code",
   "execution_count": 12,
   "metadata": {
    "ExecuteTime": {
     "end_time": "2017-08-01T15:39:44.876410",
     "start_time": "2017-08-01T15:39:44.723538"
    }
   },
   "outputs": [
    {
     "ename": "IndexError",
     "evalue": "string index out of range",
     "output_type": "error",
     "traceback": [
      "\u001b[1;31m---------------------------------------------------------------------------\u001b[0m",
      "\u001b[1;31mIndexError\u001b[0m                                Traceback (most recent call last)",
      "\u001b[1;32m<ipython-input-12-597f80937233>\u001b[0m in \u001b[0;36m<module>\u001b[1;34m\u001b[0m\n\u001b[0;32m      4\u001b[0m \u001b[1;32mfor\u001b[0m \u001b[0mi\u001b[0m \u001b[1;32min\u001b[0m \u001b[0mrange\u001b[0m\u001b[1;33m(\u001b[0m\u001b[1;36m8\u001b[0m\u001b[1;33m)\u001b[0m\u001b[1;33m:\u001b[0m\u001b[1;33m\u001b[0m\u001b[1;33m\u001b[0m\u001b[0m\n\u001b[0;32m      5\u001b[0m     \u001b[0mkey\u001b[0m \u001b[1;33m=\u001b[0m \u001b[0mneighborhoods\u001b[0m\u001b[1;33m[\u001b[0m\u001b[0mi\u001b[0m\u001b[1;33m]\u001b[0m\u001b[1;33m\u001b[0m\u001b[1;33m\u001b[0m\u001b[0m\n\u001b[1;32m----> 6\u001b[1;33m     \u001b[0mval\u001b[0m \u001b[1;33m=\u001b[0m \u001b[0min_binary_2\u001b[0m\u001b[1;33m[\u001b[0m\u001b[0mi\u001b[0m\u001b[1;33m]\u001b[0m\u001b[1;33m\u001b[0m\u001b[1;33m\u001b[0m\u001b[0m\n\u001b[0m\u001b[0;32m      7\u001b[0m     \u001b[0mlookup_table_2\u001b[0m\u001b[1;33m.\u001b[0m\u001b[0mupdate\u001b[0m\u001b[1;33m(\u001b[0m\u001b[1;33m{\u001b[0m\u001b[0mkey\u001b[0m\u001b[1;33m:\u001b[0m\u001b[0mval\u001b[0m\u001b[1;33m}\u001b[0m\u001b[1;33m)\u001b[0m\u001b[1;33m\u001b[0m\u001b[1;33m\u001b[0m\u001b[0m\n",
      "\u001b[1;31mIndexError\u001b[0m: string index out of range"
     ]
    }
   ],
   "source": [
    "# if we try to create the dictionary without padding we get an IndexError\n",
    "in_binary_2 = bin(rule_number)[2:][::-1]\n",
    "lookup_table_2 ={}\n",
    "for i in range(8):\n",
    "    key = neighborhoods[i]\n",
    "    val = in_binary_2[i]\n",
    "    lookup_table_2.update({key:val})"
   ]
  },
  {
   "cell_type": "code",
   "execution_count": 13,
   "metadata": {
    "ExecuteTime": {
     "end_time": "2017-08-01T15:39:45.173034",
     "start_time": "2017-08-01T15:39:45.163341"
    }
   },
   "outputs": [
    {
     "name": "stdout",
     "output_type": "stream",
     "text": [
      "(0, 0, 0) --> 0\n",
      "(0, 0, 1) --> 1\n",
      "(0, 1, 0) --> 0\n",
      "(0, 1, 1) --> 0\n",
      "(1, 0, 0) --> 1\n",
      "(1, 0, 1) --> 0\n",
      "(1, 1, 0) --> 0\n",
      "(1, 1, 1) --> 0\n"
     ]
    }
   ],
   "source": [
    "# use try, except statement to make val a 0 if the index runs over, where we had to pad before\n",
    "in_binary_2 = bin(rule_number)[2:][::-1]\n",
    "lookup_table_2 ={}\n",
    "for i in range(8):\n",
    "    key = neighborhoods[i]\n",
    "    try:\n",
    "        val = in_binary_2[i]\n",
    "    except IndexError:\n",
    "        val = '0'\n",
    "    lookup_table_2.update({key: val})\n",
    "for key, val in lookup_table_2.items():\n",
    "    print(key, '-->', val)"
   ]
  },
  {
   "cell_type": "markdown",
   "metadata": {},
   "source": [
    "Better still, let's use string formatting to convert the rule number to binary and automatically pad with 0s as needed, then use zip and dict to create the lookup table."
   ]
  },
  {
   "cell_type": "code",
   "execution_count": 14,
   "metadata": {
    "ExecuteTime": {
     "end_time": "2017-08-01T15:39:47.339829",
     "start_time": "2017-08-01T15:39:47.336099"
    }
   },
   "outputs": [
    {
     "name": "stdout",
     "output_type": "stream",
     "text": [
      "00010010\n"
     ]
    }
   ],
   "source": [
    "in_binary_3 = '{:{fill}{align}{width}b}'.format(rule_number, fill='0', align='>', width='8')\n",
    "print(in_binary_3)"
   ]
  },
  {
   "cell_type": "markdown",
   "metadata": {},
   "source": [
    "since the string formatting also gives the binary result in the opposite order of what we want, use the reversed function in zip, so that it iterates through in the order we need\n",
    "\n",
    "### This is the Pythonic way of implementing a CA lookup table using a dictionary."
   ]
  },
  {
   "cell_type": "code",
   "execution_count": 15,
   "metadata": {
    "ExecuteTime": {
     "end_time": "2017-08-01T15:39:47.770923",
     "start_time": "2017-08-01T15:39:47.765230"
    }
   },
   "outputs": [
    {
     "name": "stdout",
     "output_type": "stream",
     "text": [
      "(0, 0, 0) --> 0\n",
      "(0, 0, 1) --> 1\n",
      "(0, 1, 0) --> 0\n",
      "(0, 1, 1) --> 0\n",
      "(1, 0, 0) --> 1\n",
      "(1, 0, 1) --> 0\n",
      "(1, 1, 0) --> 0\n",
      "(1, 1, 1) --> 0\n"
     ]
    }
   ],
   "source": [
    "lookup_table_3 = dict(zip(neighborhoods, reversed(in_binary_3)))\n",
    "\n",
    "for key, val in lookup_table_3.items():\n",
    "    print(key, '-->', val)"
   ]
  },
  {
   "cell_type": "markdown",
   "metadata": {},
   "source": [
    "note that because we use string formatting to create the binary representation of the rule number, the lookup table outputs are strings, and we will convert them to ints later"
   ]
  },
  {
   "cell_type": "code",
   "execution_count": 16,
   "metadata": {},
   "outputs": [
    {
     "name": "stdout",
     "output_type": "stream",
     "text": [
      "<class 'str'>\n"
     ]
    }
   ],
   "source": [
    "print(type(lookup_table_3[(0,0,0)]))"
   ]
  },
  {
   "cell_type": "markdown",
   "metadata": {},
   "source": [
    "We now have all the pieces we need, so let's put them together to make a spacetime field"
   ]
  },
  {
   "cell_type": "code",
   "execution_count": null,
   "metadata": {},
   "outputs": [],
   "source": []
  },
  {
   "cell_type": "markdown",
   "metadata": {},
   "source": [
    "spacetime field will be a list of lists, so that spacetime_field[t] is the lattice configuration at time t initialize with the initial condition"
   ]
  },
  {
   "cell_type": "code",
   "execution_count": 17,
   "metadata": {
    "ExecuteTime": {
     "end_time": "2017-08-01T15:39:50.534158",
     "start_time": "2017-08-01T15:39:50.530958"
    }
   },
   "outputs": [],
   "source": [
    "spacetime_field = [initial_condition_3]"
   ]
  },
  {
   "cell_type": "code",
   "execution_count": 18,
   "metadata": {
    "ExecuteTime": {
     "end_time": "2017-08-01T15:39:50.941117",
     "start_time": "2017-08-01T15:39:50.936368"
    }
   },
   "outputs": [
    {
     "name": "stdout",
     "output_type": "stream",
     "text": [
      "[[0, 1, 0, 1, 0, 1, 0, 0, 1, 0, 1, 0, 1, 0, 1, 1, 1, 1, 1, 0]]\n",
      "[0, 1, 0, 1, 0, 1, 0, 0, 1, 0, 1, 0, 1, 0, 1, 1, 1, 1, 1, 0]\n",
      "True\n"
     ]
    }
   ],
   "source": [
    "print(spacetime_field)\n",
    "print(spacetime_field[0]) \n",
    "print(spacetime_field[0] == initial_condition_3) # spacetime field at time 0 should be the initial condition"
   ]
  },
  {
   "cell_type": "markdown",
   "metadata": {},
   "source": [
    "for implementation of the update rule, we will need a variable to keep track of the current configuration"
   ]
  },
  {
   "cell_type": "code",
   "execution_count": 19,
   "metadata": {
    "ExecuteTime": {
     "end_time": "2017-08-01T15:39:51.628399",
     "start_time": "2017-08-01T15:39:51.625222"
    }
   },
   "outputs": [],
   "source": [
    "# We have to be careful though to COPY the list, and not just use the equals sign (which just sets a new pointer)\n",
    "current_configuration = initial_condition_3.copy()"
   ]
  },
  {
   "cell_type": "code",
   "execution_count": 20,
   "metadata": {
    "ExecuteTime": {
     "end_time": "2017-08-01T15:39:52.202651",
     "start_time": "2017-08-01T15:39:52.199454"
    }
   },
   "outputs": [
    {
     "name": "stdout",
     "output_type": "stream",
     "text": [
      "[0, 1, 0, 1, 0, 1, 0, 0, 1, 0, 1, 0, 1, 0, 1, 1, 1, 1, 1, 0]\n"
     ]
    }
   ],
   "source": [
    "print(current_configuration)"
   ]
  },
  {
   "cell_type": "markdown",
   "metadata": {},
   "source": [
    "we will also need a new_configuration placeholder "
   ]
  },
  {
   "cell_type": "code",
   "execution_count": 21,
   "metadata": {},
   "outputs": [],
   "source": [
    "new_configuration = []"
   ]
  },
  {
   "cell_type": "markdown",
   "metadata": {},
   "source": [
    "now iterate through the current configuration, get the neighborhood, and apply the lookup table"
   ]
  },
  {
   "cell_type": "code",
   "execution_count": 22,
   "metadata": {
    "ExecuteTime": {
     "end_time": "2017-08-01T15:39:52.778797",
     "start_time": "2017-08-01T15:39:52.771242"
    }
   },
   "outputs": [
    {
     "name": "stdout",
     "output_type": "stream",
     "text": [
      "[1, 0, 0, 0, 0, 0, 1, 1, 0, 0, 0, 0, 0, 0, 0, 0, 0, 0, 0, 1]\n"
     ]
    }
   ],
   "source": [
    "for i in range(len(current_configuration)):\n",
    "    \n",
    "    neighborhood = (current_configuration[(i-1)], \n",
    "                    current_configuration[i], \n",
    "                    current_configuration[(i+1)%length]) # use % for periodic boundary condition\n",
    "    \n",
    "    new_configuration.append(int(lookup_table_3[neighborhood]))\n",
    "print(new_configuration)"
   ]
  },
  {
   "cell_type": "markdown",
   "metadata": {},
   "source": [
    "now the do the same as above for the given number of time steps"
   ]
  },
  {
   "cell_type": "code",
   "execution_count": 23,
   "metadata": {
    "ExecuteTime": {
     "end_time": "2017-08-01T15:39:53.706605",
     "start_time": "2017-08-01T15:39:53.696303"
    }
   },
   "outputs": [],
   "source": [
    "for t in range(time):\n",
    "    new_configuration = []\n",
    "    for i in range(len(current_configuration)):\n",
    "        \n",
    "        neighborhood = (current_configuration[(i-1)], \n",
    "                        current_configuration[i], \n",
    "                        current_configuration[(i+1)%length])\n",
    "        \n",
    "        new_configuration.append(int(lookup_table_3[neighborhood]))\n",
    "    # update the current configuration    \n",
    "    current_configuration = new_configuration # here we don't want to keep making new copies, so use '='\n",
    "    # add the new configuration to the spacetime field\n",
    "    spacetime_field.append(new_configuration)"
   ]
  },
  {
   "cell_type": "markdown",
   "metadata": {},
   "source": [
    "Take a look out our spacetime field"
   ]
  },
  {
   "cell_type": "code",
   "execution_count": 24,
   "metadata": {
    "ExecuteTime": {
     "end_time": "2017-08-01T15:39:54.731419",
     "start_time": "2017-08-01T15:39:54.727013"
    }
   },
   "outputs": [
    {
     "name": "stdout",
     "output_type": "stream",
     "text": [
      "[0, 1, 0, 1, 0, 1, 0, 0, 1, 0, 1, 0, 1, 0, 1, 1, 1, 1, 1, 0]\n",
      "[1, 0, 0, 0, 0, 0, 1, 1, 0, 0, 0, 0, 0, 0, 0, 0, 0, 0, 0, 1]\n",
      "[0, 1, 0, 0, 0, 1, 0, 0, 1, 0, 0, 0, 0, 0, 0, 0, 0, 0, 1, 0]\n",
      "[1, 0, 1, 0, 1, 0, 1, 1, 0, 1, 0, 0, 0, 0, 0, 0, 0, 1, 0, 1]\n",
      "[0, 0, 0, 0, 0, 0, 0, 0, 0, 0, 1, 0, 0, 0, 0, 0, 1, 0, 0, 0]\n",
      "[0, 0, 0, 0, 0, 0, 0, 0, 0, 1, 0, 1, 0, 0, 0, 1, 0, 1, 0, 0]\n",
      "[0, 0, 0, 0, 0, 0, 0, 0, 1, 0, 0, 0, 1, 0, 1, 0, 0, 0, 1, 0]\n",
      "[0, 0, 0, 0, 0, 0, 0, 1, 0, 1, 0, 1, 0, 0, 0, 1, 0, 1, 0, 1]\n",
      "[1, 0, 0, 0, 0, 0, 1, 0, 0, 0, 0, 0, 1, 0, 1, 0, 0, 0, 0, 0]\n",
      "[0, 1, 0, 0, 0, 1, 0, 1, 0, 0, 0, 1, 0, 0, 0, 1, 0, 0, 0, 1]\n",
      "[0, 0, 1, 0, 1, 0, 0, 0, 1, 0, 1, 0, 1, 0, 1, 0, 1, 0, 1, 0]\n",
      "[0, 1, 0, 0, 0, 1, 0, 1, 0, 0, 0, 0, 0, 0, 0, 0, 0, 0, 0, 1]\n",
      "[0, 0, 1, 0, 1, 0, 0, 0, 1, 0, 0, 0, 0, 0, 0, 0, 0, 0, 1, 0]\n",
      "[0, 1, 0, 0, 0, 1, 0, 1, 0, 1, 0, 0, 0, 0, 0, 0, 0, 1, 0, 1]\n",
      "[0, 0, 1, 0, 1, 0, 0, 0, 0, 0, 1, 0, 0, 0, 0, 0, 1, 0, 0, 0]\n",
      "[0, 1, 0, 0, 0, 1, 0, 0, 0, 1, 0, 1, 0, 0, 0, 1, 0, 1, 0, 0]\n",
      "[1, 0, 1, 0, 1, 0, 1, 0, 1, 0, 0, 0, 1, 0, 1, 0, 0, 0, 1, 0]\n",
      "[0, 0, 0, 0, 0, 0, 0, 0, 0, 1, 0, 1, 0, 0, 0, 1, 0, 1, 0, 0]\n",
      "[0, 0, 0, 0, 0, 0, 0, 0, 1, 0, 0, 0, 1, 0, 1, 0, 0, 0, 1, 0]\n",
      "[0, 0, 0, 0, 0, 0, 0, 1, 0, 1, 0, 1, 0, 0, 0, 1, 0, 1, 0, 1]\n",
      "[1, 0, 0, 0, 0, 0, 1, 0, 0, 0, 0, 0, 1, 0, 1, 0, 0, 0, 0, 0]\n"
     ]
    }
   ],
   "source": [
    "for config in spacetime_field:\n",
    "    print(config)"
   ]
  },
  {
   "cell_type": "markdown",
   "metadata": {},
   "source": [
    "Finally, make a spacetime diagram"
   ]
  },
  {
   "cell_type": "code",
   "execution_count": 25,
   "metadata": {
    "ExecuteTime": {
     "end_time": "2017-08-01T15:39:58.091678",
     "start_time": "2017-08-01T15:39:57.471049"
    }
   },
   "outputs": [
    {
     "data": {
      "image/png": "[encoded data removed]",
      "text/plain": [
       "<Figure size 864x864 with 1 Axes>"
      ]
     },
     "metadata": {
      "needs_background": "light"
     },
     "output_type": "display_data"
    }
   ],
   "source": [
    "plt.figure(figsize=(12,12))\n",
    "plt.imshow(spacetime_field, cmap=plt.cm.Greys, interpolation='nearest')\n",
    "plt.show()"
   ]
  },
  {
   "cell_type": "markdown",
   "metadata": {
    "collapsed": true
   },
   "source": [
    "Looks like rule 18!"
   ]
  },
  {
   "cell_type": "code",
   "execution_count": null,
   "metadata": {},
   "outputs": [],
   "source": []
  },
  {
   "cell_type": "code",
   "execution_count": null,
   "metadata": {},
   "outputs": [],
   "source": []
  },
  {
   "cell_type": "markdown",
   "metadata": {},
   "source": [
    "We now collect all the final results so that we can run everything in a single cell (like a .py script) to chose our parameters and create the corresponding spacetime diagram. \n",
    "\n",
    "To maximize spaghettiness and make it look gross, I'm going to use the non-pythonic implementations from above, so if you are skipping down to this part be sure to go back up and see some better code."
   ]
  },
  {
   "cell_type": "code",
   "execution_count": 26,
   "metadata": {
    "ExecuteTime": {
     "end_time": "2017-08-01T17:13:11.212858",
     "start_time": "2017-08-01T17:13:10.421599"
    }
   },
   "outputs": [
    {
     "data": {
      "image/png": "[encoded data removed]",
      "text/plain": [
       "<Figure size 864x864 with 1 Axes>"
      ]
     },
     "metadata": {
      "needs_background": "light"
     },
     "output_type": "display_data"
    }
   ],
   "source": [
    "rule_number = 110\n",
    "length = 100\n",
    "time = 100 \n",
    "\n",
    "# make the initial condition\n",
    "initial_condition = []\n",
    "for i in range(length):\n",
    "    initial_condition.append(random.randint(0,1))\n",
    "\n",
    "# create list of neighborhood tuples in lex. order\n",
    "neighborhoods = [(0,0,0), (0,0,1), (0,1,0), (0,1,1), (1,0,0), (1,0,1), (1,1,0), (1,1,1)]\n",
    "\n",
    "# convert the rule number to binary and padd with 0s as needed\n",
    "in_binary = bin(rule_number)[2:][::-1]\n",
    "binary_length = len(in_binary)\n",
    "if binary_length != 8:\n",
    "    padding = 8 - binary_length\n",
    "    in_binary = in_binary + '0'*padding\n",
    "\n",
    "# create the lookup table dictionary\n",
    "lookup_table = {}\n",
    "for i in range(8):\n",
    "    key = neighborhoods[i]\n",
    "    val = in_binary[i]\n",
    "    lookup_table.update({key:val})\n",
    "    \n",
    "# initialize spacetime field and current configuration\n",
    "spacetime_field = [initial_condition]\n",
    "current_configuration = initial_condition.copy()\n",
    "\n",
    "# apply the lookup table to evolve the CA for the given number of time steps\n",
    "for t in range(time):\n",
    "    new_configuration = []\n",
    "    for i in range(len(current_configuration)):\n",
    "        \n",
    "        neighborhood = (current_configuration[(i-1)%length], \n",
    "                        current_configuration[i], \n",
    "                        current_configuration[(i+1)%length])\n",
    "        \n",
    "        new_configuration.append(int(lookup_table[neighborhood]))\n",
    "        \n",
    "    current_configuration = new_configuration\n",
    "    spacetime_field.append(new_configuration)\n",
    "    \n",
    "# plot the spacetime field diagram\n",
    "plt.figure(figsize=(12,12))\n",
    "plt.imshow(spacetime_field, cmap=plt.cm.Greys, interpolation='nearest')\n",
    "plt.show()"
   ]
  },
  {
   "cell_type": "code",
   "execution_count": null,
   "metadata": {},
   "outputs": [],
   "source": []
  },
  {
   "cell_type": "markdown",
   "metadata": {},
   "source": [
    "## Final thoughts for the first tutorial"
   ]
  },
  {
   "cell_type": "markdown",
   "metadata": {},
   "source": [
    "When getting started it is best to first and foremost write code that does what you want it to. There can be many different ways of writing code that produces the same output; we implemented a CA lookup table using a dictionary a few different ways in this notebook. There are \"better\" ways of writing code to produce the desired functionality. For scientific programming with Python, there are two things to keep in mind for what makes code \"good\". \n",
    "\n",
    "First, Python is a high-level language that allows for elegant, simple, and readible code. This is encapsulated in the Zen of Python, shown below. A few examples of good Python practices were shown in this notebook. Notice that we have used descriptive variable names like \"rule_number\" and \"initial_condition\", rather than using generic variable names like \"x\", \"y\", and \"z\". This makes code more readible and self-documenting. Code written this way is much easier to understand by others, and by yourself if you haven't looked at it for weeks, months, or years. Hardcoding of values should be avoided, though we have not always done so here, e.g. 'for i in range(8):'. Explicit indexing into lists, strings, tuples, etc. should similarly be avoided where possible. This is something we have done in the above, but will remove later with the use numpy arrays.\n",
    "\n",
    "Second, your mathematical intuition can help to get code that works, but it may not always correspond to efficient implementations. Scientific computing is often very compute intensive, and efficient low-level languages like C and Fortran are popular for the speed they can achieve. High-level langauges, like Python, are generally much slower in contrast. We will discuss speed and performance further in the tutorials on Numpy and Numba. Even when writing native Python though, it is useful to think about performance and efficiency. For example, CA evolution happens iteratively, one step at a time. Thus the code written above intuitively applies the lookup table and then adds the new configuration into the spacetime field list at each time step. Python allows this, and it makes it easy to write this first version of the code that will produce spacetime fields as we desire. However, it is not very efficient. Memory must be dynamically allocated to the spacetime field list, as needed, when new configurations are appended. As we will do later, it is more efficient to first allocate the appropriate memory space, and then populate it. We can do this because we specify at the outset how many time steps we wish to evolve for. \n",
    "\n",
    "\n",
    "Finally, don't expect (or even necessarily try) to write the \"correct\" or \"best\" version of your program on the first try. Good code often takes several iterations. Making your code modular by using functions and classes, as described more in the next tutorial, as well as using unit tests will make it easier to modify and improve your code. Using version control, like [git](https://git-scm.com/book/en/v2) is also highly encouraged. "
   ]
  },
  {
   "cell_type": "code",
   "execution_count": null,
   "metadata": {},
   "outputs": [],
   "source": [
    "# avoid explicit indexing where possible in Python\n",
    "\n",
    "List = [1,2,3]\n",
    "# instead of this:\n",
    "for i in range(len(List)):\n",
    "    print(List[i])\n",
    "    \n",
    "# do this\n",
    "for thing in List:\n",
    "    print(thing)"
   ]
  },
  {
   "cell_type": "code",
   "execution_count": 28,
   "metadata": {},
   "outputs": [
    {
     "name": "stdout",
     "output_type": "stream",
     "text": [
      "The Zen of Python, by Tim Peters\n",
      "\n",
      "Beautiful is better than ugly.\n",
      "Explicit is better than implicit.\n",
      "Simple is better than complex.\n",
      "Complex is better than complicated.\n",
      "Flat is better than nested.\n",
      "Sparse is better than dense.\n",
      "Readability counts.\n",
      "Special cases aren't special enough to break the rules.\n",
      "Although practicality beats purity.\n",
      "Errors should never pass silently.\n",
      "Unless explicitly silenced.\n",
      "In the face of ambiguity, refuse the temptation to guess.\n",
      "There should be one-- and preferably only one --obvious way to do it.\n",
      "Although that way may not be obvious at first unless you're Dutch.\n",
      "Now is better than never.\n",
      "Although never is often better than *right* now.\n",
      "If the implementation is hard to explain, it's a bad idea.\n",
      "If the implementation is easy to explain, it may be a good idea.\n",
      "Namespaces are one honking great idea -- let's do more of those!\n"
     ]
    }
   ],
   "source": [
    "import this"
   ]
  },
  {
   "cell_type": "code",
   "execution_count": null,
   "metadata": {},
   "outputs": [],
   "source": []
  },
  {
   "cell_type": "code",
   "execution_count": null,
   "metadata": {},
   "outputs": [],
   "source": []
  }
 ],
 "metadata": {
  "kernelspec": {
   "display_name": "Python 3 (ipykernel)",
   "language": "python",
   "name": "python3"
  },
  "language_info": {
   "codemirror_mode": {
    "name": "ipython",
    "version": 3
   },
   "file_extension": ".py",
   "mimetype": "text/x-python",
   "name": "python",
   "nbconvert_exporter": "python",
   "pygments_lexer": "ipython3",
   "version": "3.9.7"
  }
 },
 "nbformat": 4,
 "nbformat_minor": 1
}
