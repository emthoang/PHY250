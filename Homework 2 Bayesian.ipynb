{
 "cells": [
  {
   "cell_type": "code",
   "execution_count": 1,
   "id": "fe26ffbd",
   "metadata": {},
   "outputs": [],
   "source": [
    "from numpy import *\n",
    "from matplotlib import pyplot as plt\n",
    "import scipy.integrate as integrate\n",
    "%matplotlib inline"
   ]
  },
  {
   "cell_type": "code",
   "execution_count": 2,
   "id": "223225a1",
   "metadata": {},
   "outputs": [],
   "source": [
    "def N(a): # Normalization of Gaussian below, ensures total probability is 1\n",
    "    val = integrate.quad(lambda x: e**(-x**2/(2*a)),-inf,inf)\n",
    "    return 1/val[0]\n",
    "\n",
    "def prob_x_given_a(x,a):\n",
    "    '''\n",
    "    Returns P(x|a), prob of x given a\n",
    "    mean = 0, variance = a\n",
    "    x = input sample\n",
    "    '''\n",
    "    return N(a) * e**(-x**2/(2*a))\n",
    "\n",
    "x = linspace(-10,10,101)\n",
    "a = 1"
   ]
  },
  {
   "cell_type": "code",
   "execution_count": 3,
   "id": "263b1b99",
   "metadata": {},
   "outputs": [
    {
     "data": {
      "text/plain": [
       "(0.9999999999999999, 7.619031656308536e-09)"
      ]
     },
     "execution_count": 3,
     "metadata": {},
     "output_type": "execute_result"
    }
   ],
   "source": [
    "# Check that integrated probability adds up to 1\n",
    "integrate.quad(lambda x: prob_x_given_a(x,a),-inf,inf)"
   ]
  },
  {
   "cell_type": "code",
   "execution_count": 16,
   "id": "45da8871",
   "metadata": {},
   "outputs": [],
   "source": [
    "# Bayes Theorem\n",
    "# P(A|B) = P(B|A) * P(A) / P(B)\n",
    "\n",
    "def prob_a_given_x(a,x):\n",
    "    # Assuming P(a) = 1 (uniform prior) and x is an array of samples\n",
    "    # return prob_x_given_a(x,a)\n",
    "    arr = []\n",
    "    for i in x:\n",
    "        arr.append(i**2)\n",
    "    \n",
    "    arr2 = []\n",
    "    for i in a:\n",
    "        arr2.append((N(i))**len(x) * e**(-sum(arr)/(2*i)))\n",
    "    return arr2\n",
    "\n"
   ]
  },
  {
   "cell_type": "code",
   "execution_count": 25,
   "id": "e8a1c09c",
   "metadata": {},
   "outputs": [
    {
     "name": "stdout",
     "output_type": "stream",
     "text": [
      "[2, 6, 3, -7, 5, -8, -4, 9, -7, -1, -5, 2, 6, -8, 6, -7, 2, 4, 8, 3, -10, 1, -5, 0, -10, 3, -6, -7, 8, 2, -10, 8, -3, 3, -6, 7, -7, 2, -8, 4, -5, -6, -3, -2, -4, 5, -5, 1, -10, 3, 0, -7, 2, -4, 4, -3, -9, 3, -3, -6, -3, 7, 7, 2, -2, -9, -4, -8, -3, -7, 4, -3, 1, 8, 0, 9, -2, 4, -6, 2, -10, 2, 4, -10, -7, 0, -5, 2, 0, -9, 0, -1, -2, 8, 8, -6, 4, 0, -9, -2]\n"
     ]
    }
   ],
   "source": [
    "def random_100_samples():\n",
    "    arr = []\n",
    "    count = 1\n",
    "    while count < 101:\n",
    "        arr.append(random.randint(-10, 10))\n",
    "        count += 1\n",
    "    return arr"
   ]
  },
  {
   "cell_type": "code",
   "execution_count": 52,
   "id": "fb3fc50c",
   "metadata": {},
   "outputs": [
    {
     "data": {
      "text/plain": [
       "Text(0, 0.5, 'P(a|{x})')"
      ]
     },
     "execution_count": 52,
     "metadata": {},
     "output_type": "execute_result"
    },
    {
     "data": {
      "image/png": "[encoded data removed]",
      "text/plain": [
       "<Figure size 432x288 with 1 Axes>"
      ]
     },
     "metadata": {
      "needs_background": "light"
     },
     "output_type": "display_data"
    }
   ],
   "source": [
    "x_arr = random_100_samples()\n",
    "\n",
    "a_arr = linspace(1,100,100)\n",
    "plt.plot(a_arr,prob_a_given_x(a_arr,x_arr))\n",
    "plt.xlabel('a')\n",
    "plt.ylabel('P(a|{x})')"
   ]
  },
  {
   "cell_type": "code",
   "execution_count": 53,
   "id": "581c3230",
   "metadata": {},
   "outputs": [],
   "source": [
    "# def MHalgorithm(a_arr, x_arr):\n",
    "\n",
    "#     x0 = x_arr[0]\n",
    "#     time = [0]\n",
    "#     arr = [x0]\n",
    "#     t = 0\n",
    "#     for i in prob:\n",
    "#         A = min(1,prob_x_given_a(x0,a)/prob_x_given_a(i,a))\n",
    "#         u = random.uniform(0,1)\n",
    "        \n",
    "#         if u <= A:\n",
    "#             x0 = i\n",
    "#         else:\n",
    "#             x0 = x0\n",
    "#         arr.append(x0)\n",
    "#         t += 1\n",
    "#         time.append(t)\n",
    "        \n",
    "#     return time,arr\n",
    "\n",
    "# # print(MHalgorithm(1,x_arr))"
   ]
  },
  {
   "cell_type": "code",
   "execution_count": null,
   "id": "b42aab9c",
   "metadata": {},
   "outputs": [],
   "source": [
    "def MHalgorithm(a_arr, x_arr):\n",
    "    prob = prob_a_given_x(a_arr,x_arr)\n",
    "\n",
    "    a0 = array(a_arr[i])\n",
    "    arr = [a0]\n",
    "\n",
    "    for i in a_arr:\n",
    "        A = min(1,prob_a_given_x(a0,x_arr)/prob_a_given_x(array(i),x_arr))\n",
    "\n",
    "        u = random.uniform(0,1)\n",
    "        if u <= A:\n",
    "            a0 = i\n",
    "        else:\n",
    "            a0 = a0\n",
    "        \n",
    "        arr.append(a0)\n",
    "        \n",
    "    return \n",
    "\n",
    "# print(MHalgorithm(1,x_arr))"
   ]
  },
  {
   "cell_type": "code",
   "execution_count": 50,
   "id": "53df65bd",
   "metadata": {},
   "outputs": [
    {
     "data": {
      "text/plain": [
       "Text(0, 0.5, 'Parameter value')"
      ]
     },
     "execution_count": 50,
     "metadata": {},
     "output_type": "execute_result"
    },
    {
     "data": {
      "image/png": "[encoded data removed]",
      "text/plain": [
       "<Figure size 432x288 with 1 Axes>"
      ]
     },
     "metadata": {
      "needs_background": "light"
     },
     "output_type": "display_data"
    }
   ],
   "source": [
    "plt.plot(MHalgorithm(1,x_arr)[0],MHalgorithm(1,x_arr)[1])\n",
    "plt.xlabel('Sample number')\n",
    "plt.ylabel('Parameter value')"
   ]
  },
  {
   "cell_type": "code",
   "execution_count": null,
   "id": "9ab049f8",
   "metadata": {},
   "outputs": [],
   "source": []
  }
 ],
 "metadata": {
  "kernelspec": {
   "display_name": "Python 3 (ipykernel)",
   "language": "python",
   "name": "python3"
  },
  "language_info": {
   "codemirror_mode": {
    "name": "ipython",
    "version": 3
   },
   "file_extension": ".py",
   "mimetype": "text/x-python",
   "name": "python",
   "nbconvert_exporter": "python",
   "pygments_lexer": "ipython3",
   "version": "3.9.7"
  }
 },
 "nbformat": 4,
 "nbformat_minor": 5
}
