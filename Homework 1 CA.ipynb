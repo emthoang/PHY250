{
 "cells": [
  {
   "cell_type": "code",
   "execution_count": 1,
   "id": "f63a515c",
   "metadata": {},
   "outputs": [],
   "source": [
    "# Emily Hoang\n",
    "# 4/5/2022 3-state nearest neighbor cellular automata\n",
    "\n",
    "from numpy import *\n",
    "from matplotlib import pyplot as plt\n",
    "%matplotlib inline"
   ]
  },
  {
   "cell_type": "code",
   "execution_count": 2,
   "id": "e5af34aa",
   "metadata": {},
   "outputs": [],
   "source": [
    "def page_printer(data, start=0, screen_lines=0, pager_cmd=None):\n",
    "    if isinstance(data, dict):\n",
    "        data = data['text/plain']\n",
    "    print(data)\n",
    "\n",
    "import IPython.core.page\n",
    "IPython.core.page.page = page_printer"
   ]
  },
  {
   "cell_type": "markdown",
   "id": "a3898cf9",
   "metadata": {},
   "source": [
    "## Non-spaghetti (using functions and a class)"
   ]
  },
  {
   "cell_type": "code",
   "execution_count": 3,
   "id": "4cd038cb",
   "metadata": {},
   "outputs": [],
   "source": [
    "class methods:\n",
    "\n",
    "    def num_to_rule(num):\n",
    "        '''\n",
    "        Converts a number between (and including) 0 and 19682 into a cellular automata rule in ternary basis.\n",
    "        Returns the rule in the form of a list with padding.\n",
    "        '''\n",
    "        rule = []\n",
    "        if num > 19682 or num < 0:\n",
    "            raise ValueError(\"Error, number too large (greater than 19682) or negative\")\n",
    "        else:\n",
    "            while num > 0:\n",
    "                rule.append(int(num%3))\n",
    "                num = floor(num/3)\n",
    "            while len(rule) < 9: # Padding\n",
    "                rule.append(0)\n",
    "        return rule[::-1]\n",
    "    \n",
    "    def lookup_table(rule_num):\n",
    "        '''\n",
    "        Takes a number, converting it into a cellular automata rule, and creates a table.\n",
    "        Each possible neighborhood configuration corresponds to a number based on the rule.\n",
    "        '''\n",
    "        rule = methods.num_to_rule(rule_num)\n",
    "        neighborhoods = [[2,2],[2,1],[2,0],[1,2],[1,1],[1,0],[0,2],[0,1],[0,0]]\n",
    "        table = []\n",
    "\n",
    "        for i in range(len(rule)):\n",
    "            key = neighborhoods[i]\n",
    "            val = rule[i]\n",
    "            table.append([key,val])\n",
    "        return table\n",
    "\n",
    "    def next_row(init,rule_num):\n",
    "        '''\n",
    "        Takes an initial row and a rule number. Applies the rule to the initial row and returns the next row using the\n",
    "        neighborhood table. Neighborhood: cell above + cell above and to the left\n",
    "        x x o\n",
    "        o x o\n",
    "        '''\n",
    "        init_row = list(map(int, str(init)))\n",
    "        table = methods.lookup_table(rule_num)\n",
    "        init_neighborhood = []\n",
    "        for i in range(len(init_row)):\n",
    "            init_neighborhood.append([init_row[i-1],init_row[i]])\n",
    "\n",
    "        new_row = []\n",
    "        for i in init_neighborhood:\n",
    "            for j in table:\n",
    "                if i == j[0]:\n",
    "                    new_row.append(j[1])\n",
    "        return new_row\n",
    "    \n",
    "    def cell_auto_creator(init,rule_num,num_rows):\n",
    "        '''\n",
    "        Iterates the next_row function starting from an initial row. Returns a cell by iterating the input rule\n",
    "        depending on the number of rows specified.\n",
    "        '''\n",
    "        init_row = list(map(int, str(init)))\n",
    "        cell = [init_row]\n",
    "        count = 1\n",
    "        while count < num_rows:\n",
    "            cell.append(methods.next_row(init,rule_num))\n",
    "\n",
    "            strings = [str(i) for i in methods.next_row(init,rule_num)]\n",
    "            init = \"\".join(strings)\n",
    "\n",
    "            init_row = methods.next_row(init,rule_num) # Updates the new row to be the row iterated on\n",
    "            count += 1\n",
    "        return cell"
   ]
  },
  {
   "cell_type": "code",
   "execution_count": 4,
   "id": "11d6896b",
   "metadata": {},
   "outputs": [
    {
     "data": {
      "image/png": "[encoded data removed]",
      "text/plain": [
       "<Figure size 864x864 with 1 Axes>"
      ]
     },
     "metadata": {
      "needs_background": "light"
     },
     "output_type": "display_data"
    }
   ],
   "source": [
    "# init = 221200110\n",
    "init = 1200120102010211002112210121120010201101022022211121020100210011220012010220120021102221101012010122\n",
    "rule = 8105\n",
    "\n",
    "spacetime_field = methods.cell_auto_creator(init,rule,100)\n",
    "\n",
    "plt.figure(figsize=(12,12))\n",
    "plt.imshow(spacetime_field, cmap=plt.cm.gist_stern, interpolation='nearest')\n",
    "plt.show()"
   ]
  },
  {
   "cell_type": "markdown",
   "id": "529f7d7c",
   "metadata": {},
   "source": [
    "## Spaghetti (not using functions and classes)"
   ]
  },
  {
   "cell_type": "code",
   "execution_count": 5,
   "id": "e10878db",
   "metadata": {},
   "outputs": [],
   "source": [
    "num = 8105\n",
    "rule = []\n",
    "while num > 0: # Converts number to rule (list)\n",
    "    rule.append(int(num%3))\n",
    "    num = floor(num/3)\n",
    "while len(rule) < 9:\n",
    "    rule.append(0)\n",
    "rule = rule[::-1]"
   ]
  },
  {
   "cell_type": "code",
   "execution_count": 6,
   "id": "bee77f92",
   "metadata": {},
   "outputs": [],
   "source": [
    "neighborhoods = [[2,2],[2,1],[2,0],[1,2],[1,1],[1,0],[0,2],[0,1],[0,0]]\n",
    "table = []\n",
    "\n",
    "for i in range(len(rule)): # Creates a table with neighbors and corresponding outputs\n",
    "    key = neighborhoods[i]\n",
    "    val = rule[i]\n",
    "    table.append([key,val])"
   ]
  },
  {
   "cell_type": "code",
   "execution_count": 7,
   "id": "41c9b30d",
   "metadata": {},
   "outputs": [],
   "source": [
    "# init = 221200110\n",
    "init = 1200120102010211002112210121120010201101022022211121020100210011220012010220120021102221101012010122\n",
    "init_row = list(map(int, str(init)))\n",
    "spacetime_field = [init_row]\n",
    "\n",
    "count = 1\n",
    "num_rows = 100\n",
    "\n",
    "init_neighborhood = []\n",
    "for i in range(len(init_row)): # Creates a list of initial neighbors\n",
    "    init_neighborhood.append([init_row[i-1],init_row[i]])\n",
    "\n",
    "while count < num_rows:\n",
    "    \n",
    "    new_row = []\n",
    "    for i in init_neighborhood:\n",
    "        for j in table:\n",
    "            if i == j[0]:\n",
    "                new_row.append(j[1])\n",
    "    \n",
    "    spacetime_field.append(new_row)\n",
    "    \n",
    "    init_neighborhood = []\n",
    "    for i in range(len(init_row)):\n",
    "        init_neighborhood.append([new_row[i-1],new_row[i]])\n",
    "    \n",
    "    count += 1"
   ]
  },
  {
   "cell_type": "code",
   "execution_count": 8,
   "id": "11536592",
   "metadata": {},
   "outputs": [
    {
     "data": {
      "image/png": "[encoded data removed]",
      "text/plain": [
       "<Figure size 864x864 with 1 Axes>"
      ]
     },
     "metadata": {
      "needs_background": "light"
     },
     "output_type": "display_data"
    }
   ],
   "source": [
    "plt.figure(figsize=(12,12))\n",
    "plt.imshow(spacetime_field, cmap=plt.cm.gist_stern, interpolation='nearest')\n",
    "plt.show()"
   ]
  },
  {
   "cell_type": "code",
   "execution_count": 10,
   "id": "b1b86c27",
   "metadata": {},
   "outputs": [
    {
     "name": "stderr",
     "output_type": "stream",
     "text": [
      "[NbConvertApp] Converting notebook Homework 1.ipynb to script\n",
      "[NbConvertApp] Writing 4778 bytes to Homework 1.py\n"
     ]
    }
   ],
   "source": [
    "!jupyter nbconvert --to script \"Homework 1.ipynb\""
   ]
  },
  {
   "cell_type": "code",
   "execution_count": null,
   "id": "b153e37c",
   "metadata": {},
   "outputs": [],
   "source": []
  }
 ],
 "metadata": {
  "kernelspec": {
   "display_name": "Python 3 (ipykernel)",
   "language": "python",
   "name": "python3"
  },
  "language_info": {
   "codemirror_mode": {
    "name": "ipython",
    "version": 3
   },
   "file_extension": ".py",
   "mimetype": "text/x-python",
   "name": "python",
   "nbconvert_exporter": "python",
   "pygments_lexer": "ipython3",
   "version": "3.9.7"
  }
 },
 "nbformat": 4,
 "nbformat_minor": 5
}
